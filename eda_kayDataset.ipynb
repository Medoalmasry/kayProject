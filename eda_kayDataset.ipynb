{
 "cells": [
  {
   "cell_type": "markdown",
   "metadata": {},
   "source": [
    "# Imports"
   ]
  },
  {
   "cell_type": "code",
   "execution_count": 171,
   "metadata": {},
   "outputs": [],
   "source": [
    "import os\n",
    "import numpy as np\n",
    "import pandas as pd\n",
    "import matplotlib.pyplot as plt"
   ]
  },
  {
   "cell_type": "markdown",
   "metadata": {},
   "source": [
    "# Getting the dataset"
   ]
  },
  {
   "cell_type": "markdown",
   "metadata": {},
   "source": [
    "#### Only need to run this once so uncomment/comment accordingly"
   ]
  },
  {
   "cell_type": "code",
   "execution_count": 15,
   "metadata": {},
   "outputs": [],
   "source": [
    "### Images + Labels through (DNN) ###\n",
    "\n",
    "#fname = \"kay_labels.npy\"\n",
    "#if not os.path.exists(fname):\n",
    "#  !wget -qO $fname https://osf.io/r638s/download\n",
    "\n",
    "### Original Dataset ###\n",
    "\n",
    "#fname = \"kay_images.npz\"\n",
    "#if not os.path.exists(fname):\n",
    "#  !wget -qO $fname https://osf.io/ymnjv/download"
   ]
  },
  {
   "cell_type": "markdown",
   "metadata": {},
   "source": [
    "# Load Dataset and check dimensions"
   ]
  },
  {
   "cell_type": "code",
   "execution_count": 158,
   "metadata": {},
   "outputs": [
    {
     "name": "stdout",
     "output_type": "stream",
     "text": [
      "stimuli has shape (1750, 128, 128)\n",
      "stimuli_test has shape (120, 128, 128)\n",
      "responses has shape (1750, 8428)\n",
      "responses_test has shape (120, 8428)\n",
      "roi has shape (8428,)\n",
      "roi_names has shape (8,)\n",
      "['Other' 'V1' 'V2' 'V3' 'V3A' 'V3B' 'V4' 'LatOcc']\n"
     ]
    }
   ],
   "source": [
    "### Load images + fMRI responses ###\n",
    "with np.load('kay_images.npz') as dobj:\n",
    "    data = dict(**dobj)\n",
    "\n",
    "### Exploring keys in dataset ###\n",
    "for k,v in data.items(): \n",
    "    print(k,'has shape',v.shape)\n",
    "print(data[\"roi_names\"])"
   ]
  },
  {
   "cell_type": "markdown",
   "metadata": {},
   "source": [
    "### Dimensions of dictionary values ###\n",
    "- 1750 Training Images, each is 128 by 128 pixels\n",
    "- 120 Test Images, each is 128 by 128 pixels\n",
    "- 1750 fMRI responses for the training images, each is 8428\n",
    "- 120 fMRI responses for the test images, each is 8428\n",
    "- 8428 Regions from the visual cortex corresponding to the 8428 fMRI responses\n",
    "- Names corresponding to the Visual cortex regions of interest"
   ]
  },
  {
   "cell_type": "markdown",
   "metadata": {},
   "source": [
    "# What are the dimensions of the data?"
   ]
  },
  {
   "cell_type": "code",
   "execution_count": 238,
   "metadata": {},
   "outputs": [
    {
     "name": "stdout",
     "output_type": "stream",
     "text": [
      "(128, 128)\n",
      "(1790,)\n"
     ]
    },
    {
     "data": {
      "text/plain": [
       "ModeResult(mode=array([2]), count=array([2083]))"
      ]
     },
     "execution_count": 238,
     "metadata": {},
     "output_type": "execute_result"
    }
   ],
   "source": [
    "from scipy import stats\n",
    "print(data[\"stimuli\"][0].shape)\n",
    "print(data[\"responses\"][3][data[\"roi\"]==3].shape)\n",
    "stats.mode(data[\"roi\"])"
   ]
  },
  {
   "cell_type": "markdown",
   "metadata": {},
   "source": [
    "# Which roi in the visual cortex gave the most responses?"
   ]
  },
  {
   "cell_type": "code",
   "execution_count": 136,
   "metadata": {},
   "outputs": [
    {
     "data": {
      "text/plain": [
       "([<matplotlib.axis.XTick at 0x7fcb69be0240>,\n",
       "  <matplotlib.axis.XTick at 0x7fcb69be0208>,\n",
       "  <matplotlib.axis.XTick at 0x7fcb69bdce10>,\n",
       "  <matplotlib.axis.XTick at 0x7fcb69b8cc18>,\n",
       "  <matplotlib.axis.XTick at 0x7fcb69b9a240>,\n",
       "  <matplotlib.axis.XTick at 0x7fcb69b9a6d8>,\n",
       "  <matplotlib.axis.XTick at 0x7fcb69b9ab70>],\n",
       " [Text(0, 0, 'V1'),\n",
       "  Text(0, 0, 'V2'),\n",
       "  Text(0, 0, 'V3'),\n",
       "  Text(0, 0, 'V3A'),\n",
       "  Text(0, 0, 'V3B'),\n",
       "  Text(0, 0, 'V4'),\n",
       "  Text(0, 0, 'LatOcc')])"
      ]
     },
     "execution_count": 136,
     "metadata": {},
     "output_type": "execute_result"
    },
    {
     "data": {
      "image/png": "[encoded data removed]",
      "text/plain": [
       "<Figure size 432x288 with 1 Axes>"
      ]
     },
     "metadata": {
      "needs_background": "light"
     },
     "output_type": "display_data"
    }
   ],
   "source": [
    "plt.hist(data[\"roi\"],bins=[1,2,3,4,5,6,7,8],histtype='bar',ec='black',rwidth=0.5,align='left')\n",
    "plt.xticks(range(1,8),data[\"roi_names\"][1:],rotation=45)"
   ]
  },
  {
   "cell_type": "code",
   "execution_count": 175,
   "metadata": {},
   "outputs": [],
   "source": [
    "df = pd.DataFrame(data[\"responses\"], index=np.arange(0,1750), columns=data[\"roi\"]) "
   ]
  },
  {
   "cell_type": "code",
   "execution_count": 185,
   "metadata": {},
   "outputs": [
    {
     "data": {
      "text/html": [
       "<div>\n",
       "<style scoped>\n",
       "    .dataframe tbody tr th:only-of-type {\n",
       "        vertical-align: middle;\n",
       "    }\n",
       "\n",
       "    .dataframe tbody tr th {\n",
       "        vertical-align: top;\n",
       "    }\n",
       "\n",
       "    .dataframe thead th {\n",
       "        text-align: right;\n",
       "    }\n",
       "</style>\n",
       "<table border=\"1\" class=\"dataframe\">\n",
       "  <thead>\n",
       "    <tr style=\"text-align: right;\">\n",
       "      <th></th>\n",
       "      <th>3</th>\n",
       "      <th>3</th>\n",
       "      <th>3</th>\n",
       "      <th>3</th>\n",
       "      <th>3</th>\n",
       "      <th>3</th>\n",
       "      <th>3</th>\n",
       "      <th>3</th>\n",
       "      <th>3</th>\n",
       "      <th>3</th>\n",
       "      <th>...</th>\n",
       "      <th>4</th>\n",
       "      <th>4</th>\n",
       "      <th>4</th>\n",
       "      <th>3</th>\n",
       "      <th>3</th>\n",
       "      <th>4</th>\n",
       "      <th>4</th>\n",
       "      <th>3</th>\n",
       "      <th>3</th>\n",
       "      <th>6</th>\n",
       "    </tr>\n",
       "  </thead>\n",
       "  <tbody>\n",
       "    <tr>\n",
       "      <th>0</th>\n",
       "      <td>0.531093</td>\n",
       "      <td>-0.171167</td>\n",
       "      <td>-2.181853</td>\n",
       "      <td>-0.590274</td>\n",
       "      <td>0.245196</td>\n",
       "      <td>0.059644</td>\n",
       "      <td>-0.058265</td>\n",
       "      <td>-0.601771</td>\n",
       "      <td>-0.691502</td>\n",
       "      <td>-0.177053</td>\n",
       "      <td>...</td>\n",
       "      <td>0.955176</td>\n",
       "      <td>-1.139927</td>\n",
       "      <td>-1.109647</td>\n",
       "      <td>0.053570</td>\n",
       "      <td>0.134723</td>\n",
       "      <td>-1.035699</td>\n",
       "      <td>-0.505569</td>\n",
       "      <td>-0.080873</td>\n",
       "      <td>-0.071814</td>\n",
       "      <td>-1.146884</td>\n",
       "    </tr>\n",
       "    <tr>\n",
       "      <th>1</th>\n",
       "      <td>-0.379516</td>\n",
       "      <td>-1.579139</td>\n",
       "      <td>-1.524006</td>\n",
       "      <td>0.096045</td>\n",
       "      <td>1.685208</td>\n",
       "      <td>0.847504</td>\n",
       "      <td>-0.040209</td>\n",
       "      <td>-1.125981</td>\n",
       "      <td>0.806234</td>\n",
       "      <td>1.361270</td>\n",
       "      <td>...</td>\n",
       "      <td>-0.787040</td>\n",
       "      <td>-0.815515</td>\n",
       "      <td>0.978414</td>\n",
       "      <td>2.116331</td>\n",
       "      <td>1.461600</td>\n",
       "      <td>-0.255562</td>\n",
       "      <td>-0.556305</td>\n",
       "      <td>-0.113045</td>\n",
       "      <td>-1.717300</td>\n",
       "      <td>1.176624</td>\n",
       "    </tr>\n",
       "    <tr>\n",
       "      <th>2</th>\n",
       "      <td>0.993240</td>\n",
       "      <td>1.119816</td>\n",
       "      <td>1.243125</td>\n",
       "      <td>1.473681</td>\n",
       "      <td>-1.125020</td>\n",
       "      <td>0.783543</td>\n",
       "      <td>0.588116</td>\n",
       "      <td>0.706639</td>\n",
       "      <td>0.817972</td>\n",
       "      <td>-0.921178</td>\n",
       "      <td>...</td>\n",
       "      <td>-0.946324</td>\n",
       "      <td>-0.869877</td>\n",
       "      <td>0.072738</td>\n",
       "      <td>-0.487968</td>\n",
       "      <td>-1.162385</td>\n",
       "      <td>-0.867700</td>\n",
       "      <td>-0.251304</td>\n",
       "      <td>-0.110324</td>\n",
       "      <td>-1.386031</td>\n",
       "      <td>-0.242594</td>\n",
       "    </tr>\n",
       "    <tr>\n",
       "      <th>3</th>\n",
       "      <td>1.756514</td>\n",
       "      <td>0.699765</td>\n",
       "      <td>-0.388143</td>\n",
       "      <td>0.150458</td>\n",
       "      <td>0.705467</td>\n",
       "      <td>0.428681</td>\n",
       "      <td>0.030642</td>\n",
       "      <td>0.101369</td>\n",
       "      <td>-0.739247</td>\n",
       "      <td>-0.702940</td>\n",
       "      <td>...</td>\n",
       "      <td>0.548245</td>\n",
       "      <td>0.419803</td>\n",
       "      <td>-0.011692</td>\n",
       "      <td>0.105247</td>\n",
       "      <td>-0.350751</td>\n",
       "      <td>-0.914126</td>\n",
       "      <td>0.453623</td>\n",
       "      <td>0.253758</td>\n",
       "      <td>-0.671005</td>\n",
       "      <td>1.596471</td>\n",
       "    </tr>\n",
       "    <tr>\n",
       "      <th>4</th>\n",
       "      <td>0.842771</td>\n",
       "      <td>1.387936</td>\n",
       "      <td>0.007925</td>\n",
       "      <td>-0.842458</td>\n",
       "      <td>-1.989295</td>\n",
       "      <td>0.298848</td>\n",
       "      <td>-0.021444</td>\n",
       "      <td>-0.184654</td>\n",
       "      <td>-0.730680</td>\n",
       "      <td>-0.171392</td>\n",
       "      <td>...</td>\n",
       "      <td>0.333085</td>\n",
       "      <td>0.238097</td>\n",
       "      <td>0.650603</td>\n",
       "      <td>0.037778</td>\n",
       "      <td>-1.581843</td>\n",
       "      <td>-0.433246</td>\n",
       "      <td>0.509865</td>\n",
       "      <td>-0.806264</td>\n",
       "      <td>-0.119285</td>\n",
       "      <td>0.018651</td>\n",
       "    </tr>\n",
       "    <tr>\n",
       "      <th>...</th>\n",
       "      <td>...</td>\n",
       "      <td>...</td>\n",
       "      <td>...</td>\n",
       "      <td>...</td>\n",
       "      <td>...</td>\n",
       "      <td>...</td>\n",
       "      <td>...</td>\n",
       "      <td>...</td>\n",
       "      <td>...</td>\n",
       "      <td>...</td>\n",
       "      <td>...</td>\n",
       "      <td>...</td>\n",
       "      <td>...</td>\n",
       "      <td>...</td>\n",
       "      <td>...</td>\n",
       "      <td>...</td>\n",
       "      <td>...</td>\n",
       "      <td>...</td>\n",
       "      <td>...</td>\n",
       "      <td>...</td>\n",
       "      <td>...</td>\n",
       "    </tr>\n",
       "    <tr>\n",
       "      <th>1745</th>\n",
       "      <td>2.382426</td>\n",
       "      <td>-2.107147</td>\n",
       "      <td>-1.493594</td>\n",
       "      <td>1.388827</td>\n",
       "      <td>-2.631801</td>\n",
       "      <td>0.420308</td>\n",
       "      <td>1.683057</td>\n",
       "      <td>-0.186406</td>\n",
       "      <td>-1.323717</td>\n",
       "      <td>-0.028985</td>\n",
       "      <td>...</td>\n",
       "      <td>-0.052304</td>\n",
       "      <td>-0.114748</td>\n",
       "      <td>0.077722</td>\n",
       "      <td>-0.142346</td>\n",
       "      <td>0.153296</td>\n",
       "      <td>0.577898</td>\n",
       "      <td>-0.753325</td>\n",
       "      <td>-0.022726</td>\n",
       "      <td>-1.190211</td>\n",
       "      <td>0.762595</td>\n",
       "    </tr>\n",
       "    <tr>\n",
       "      <th>1746</th>\n",
       "      <td>0.254708</td>\n",
       "      <td>0.231810</td>\n",
       "      <td>0.583201</td>\n",
       "      <td>0.146587</td>\n",
       "      <td>2.864857</td>\n",
       "      <td>1.392254</td>\n",
       "      <td>0.034607</td>\n",
       "      <td>0.225181</td>\n",
       "      <td>-0.564796</td>\n",
       "      <td>0.974519</td>\n",
       "      <td>...</td>\n",
       "      <td>0.123246</td>\n",
       "      <td>2.308055</td>\n",
       "      <td>-1.613054</td>\n",
       "      <td>0.521945</td>\n",
       "      <td>-0.896805</td>\n",
       "      <td>0.200033</td>\n",
       "      <td>-1.183683</td>\n",
       "      <td>1.196666</td>\n",
       "      <td>0.980932</td>\n",
       "      <td>-0.219608</td>\n",
       "    </tr>\n",
       "    <tr>\n",
       "      <th>1747</th>\n",
       "      <td>0.079429</td>\n",
       "      <td>-0.866007</td>\n",
       "      <td>-1.408018</td>\n",
       "      <td>-0.853197</td>\n",
       "      <td>-0.252877</td>\n",
       "      <td>0.042183</td>\n",
       "      <td>-0.415159</td>\n",
       "      <td>-0.141462</td>\n",
       "      <td>-0.962654</td>\n",
       "      <td>-0.593978</td>\n",
       "      <td>...</td>\n",
       "      <td>-0.006753</td>\n",
       "      <td>0.474039</td>\n",
       "      <td>0.391124</td>\n",
       "      <td>0.069396</td>\n",
       "      <td>-0.843283</td>\n",
       "      <td>0.812464</td>\n",
       "      <td>0.067151</td>\n",
       "      <td>-0.970908</td>\n",
       "      <td>-0.422587</td>\n",
       "      <td>1.593691</td>\n",
       "    </tr>\n",
       "    <tr>\n",
       "      <th>1748</th>\n",
       "      <td>0.184899</td>\n",
       "      <td>-0.062512</td>\n",
       "      <td>0.003561</td>\n",
       "      <td>0.265541</td>\n",
       "      <td>0.659230</td>\n",
       "      <td>0.249730</td>\n",
       "      <td>0.964624</td>\n",
       "      <td>0.081428</td>\n",
       "      <td>0.180992</td>\n",
       "      <td>1.352235</td>\n",
       "      <td>...</td>\n",
       "      <td>2.021719</td>\n",
       "      <td>0.622491</td>\n",
       "      <td>0.034783</td>\n",
       "      <td>1.032075</td>\n",
       "      <td>1.384395</td>\n",
       "      <td>0.464786</td>\n",
       "      <td>-0.251093</td>\n",
       "      <td>1.312982</td>\n",
       "      <td>0.767961</td>\n",
       "      <td>0.302888</td>\n",
       "    </tr>\n",
       "    <tr>\n",
       "      <th>1749</th>\n",
       "      <td>0.231905</td>\n",
       "      <td>-0.596186</td>\n",
       "      <td>1.122241</td>\n",
       "      <td>-0.324848</td>\n",
       "      <td>-1.411899</td>\n",
       "      <td>-0.669776</td>\n",
       "      <td>-0.326936</td>\n",
       "      <td>0.064251</td>\n",
       "      <td>0.403054</td>\n",
       "      <td>-1.596773</td>\n",
       "      <td>...</td>\n",
       "      <td>0.683256</td>\n",
       "      <td>0.579557</td>\n",
       "      <td>1.013220</td>\n",
       "      <td>0.300609</td>\n",
       "      <td>1.270558</td>\n",
       "      <td>0.531944</td>\n",
       "      <td>1.850249</td>\n",
       "      <td>1.844595</td>\n",
       "      <td>-1.261853</td>\n",
       "      <td>-0.287239</td>\n",
       "    </tr>\n",
       "  </tbody>\n",
       "</table>\n",
       "<p>1750 rows × 8428 columns</p>\n",
       "</div>"
      ],
      "text/plain": [
       "             3         3         3         3         3         3         3  \\\n",
       "0     0.531093 -0.171167 -2.181853 -0.590274  0.245196  0.059644 -0.058265   \n",
       "1    -0.379516 -1.579139 -1.524006  0.096045  1.685208  0.847504 -0.040209   \n",
       "2     0.993240  1.119816  1.243125  1.473681 -1.125020  0.783543  0.588116   \n",
       "3     1.756514  0.699765 -0.388143  0.150458  0.705467  0.428681  0.030642   \n",
       "4     0.842771  1.387936  0.007925 -0.842458 -1.989295  0.298848 -0.021444   \n",
       "...        ...       ...       ...       ...       ...       ...       ...   \n",
       "1745  2.382426 -2.107147 -1.493594  1.388827 -2.631801  0.420308  1.683057   \n",
       "1746  0.254708  0.231810  0.583201  0.146587  2.864857  1.392254  0.034607   \n",
       "1747  0.079429 -0.866007 -1.408018 -0.853197 -0.252877  0.042183 -0.415159   \n",
       "1748  0.184899 -0.062512  0.003561  0.265541  0.659230  0.249730  0.964624   \n",
       "1749  0.231905 -0.596186  1.122241 -0.324848 -1.411899 -0.669776 -0.326936   \n",
       "\n",
       "             3         3         3  ...         4         4         4  \\\n",
       "0    -0.601771 -0.691502 -0.177053  ...  0.955176 -1.139927 -1.109647   \n",
       "1    -1.125981  0.806234  1.361270  ... -0.787040 -0.815515  0.978414   \n",
       "2     0.706639  0.817972 -0.921178  ... -0.946324 -0.869877  0.072738   \n",
       "3     0.101369 -0.739247 -0.702940  ...  0.548245  0.419803 -0.011692   \n",
       "4    -0.184654 -0.730680 -0.171392  ...  0.333085  0.238097  0.650603   \n",
       "...        ...       ...       ...  ...       ...       ...       ...   \n",
       "1745 -0.186406 -1.323717 -0.028985  ... -0.052304 -0.114748  0.077722   \n",
       "1746  0.225181 -0.564796  0.974519  ...  0.123246  2.308055 -1.613054   \n",
       "1747 -0.141462 -0.962654 -0.593978  ... -0.006753  0.474039  0.391124   \n",
       "1748  0.081428  0.180992  1.352235  ...  2.021719  0.622491  0.034783   \n",
       "1749  0.064251  0.403054 -1.596773  ...  0.683256  0.579557  1.013220   \n",
       "\n",
       "             3         3         4         4         3         3         6  \n",
       "0     0.053570  0.134723 -1.035699 -0.505569 -0.080873 -0.071814 -1.146884  \n",
       "1     2.116331  1.461600 -0.255562 -0.556305 -0.113045 -1.717300  1.176624  \n",
       "2    -0.487968 -1.162385 -0.867700 -0.251304 -0.110324 -1.386031 -0.242594  \n",
       "3     0.105247 -0.350751 -0.914126  0.453623  0.253758 -0.671005  1.596471  \n",
       "4     0.037778 -1.581843 -0.433246  0.509865 -0.806264 -0.119285  0.018651  \n",
       "...        ...       ...       ...       ...       ...       ...       ...  \n",
       "1745 -0.142346  0.153296  0.577898 -0.753325 -0.022726 -1.190211  0.762595  \n",
       "1746  0.521945 -0.896805  0.200033 -1.183683  1.196666  0.980932 -0.219608  \n",
       "1747  0.069396 -0.843283  0.812464  0.067151 -0.970908 -0.422587  1.593691  \n",
       "1748  1.032075  1.384395  0.464786 -0.251093  1.312982  0.767961  0.302888  \n",
       "1749  0.300609  1.270558  0.531944  1.850249  1.844595 -1.261853 -0.287239  \n",
       "\n",
       "[1750 rows x 8428 columns]"
      ]
     },
     "execution_count": 185,
     "metadata": {},
     "output_type": "execute_result"
    }
   ],
   "source": [
    "df"
   ]
  },
  {
   "cell_type": "code",
   "execution_count": 265,
   "metadata": {},
   "outputs": [
    {
     "data": {
      "text/plain": [
       "<matplotlib.axes._subplots.AxesSubplot at 0x7fcaffc27080>"
      ]
     },
     "execution_count": 265,
     "metadata": {},
     "output_type": "execute_result"
    },
    {
     "data": {
      "image/png": "[encoded data removed]",
      "text/plain": [
       "<Figure size 432x288 with 1 Axes>"
      ]
     },
     "metadata": {
      "needs_background": "light"
     },
     "output_type": "display_data"
    }
   ],
   "source": [
    "df.loc[:,3].mean(axis=1)[:250].plot()\n",
    "df.loc[:,3].mean(axis=1)[1500:].plot()\n",
    "#df.loc[:,3].mean(axis=1).plot()"
   ]
  },
  {
   "cell_type": "code",
   "execution_count": null,
   "metadata": {},
   "outputs": [],
   "source": []
  },
  {
   "cell_type": "code",
   "execution_count": null,
   "metadata": {},
   "outputs": [],
   "source": []
  }
 ],
 "metadata": {
  "kernelspec": {
   "display_name": "Python 3",
   "language": "python",
   "name": "python3"
  },
  "language_info": {
   "codemirror_mode": {
    "name": "ipython",
    "version": 3
   },
   "file_extension": ".py",
   "mimetype": "text/x-python",
   "name": "python",
   "nbconvert_exporter": "python",
   "pygments_lexer": "ipython3",
   "version": "3.6.10"
  }
 },
 "nbformat": 4,
 "nbformat_minor": 4
}
