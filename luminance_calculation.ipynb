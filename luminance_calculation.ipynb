{
 "cells": [
  {
   "cell_type": "code",
   "execution_count": 11,
   "metadata": {},
   "outputs": [],
   "source": [
    "import cv2\n",
    "import numpy as np\n",
    "import pandas as pd\n",
    "from skimage import filters\n",
    "import matplotlib.pyplot as plt\n",
    "from sklearn.metrics import r2_score"
   ]
  },
  {
   "cell_type": "code",
   "execution_count": 2,
   "metadata": {},
   "outputs": [],
   "source": [
    "with np.load('dataset/kay_images.npz') as dobj:\n",
    "    data = dict(**dobj)"
   ]
  },
  {
   "cell_type": "code",
   "execution_count": 3,
   "metadata": {},
   "outputs": [],
   "source": [
    "images = np.zeros(data[\"stimuli\"].shape)\n",
    "for i in range(0,1750):\n",
    "    images[i] = cv2.normalize(data[\"stimuli\"][i], None, 0, 255, cv2.NORM_MINMAX, cv2.CV_8U)"
   ]
  },
  {
   "cell_type": "code",
   "execution_count": 4,
   "metadata": {},
   "outputs": [],
   "source": [
    "thresholds = np.array([filters.threshold_otsu(image) for image in images])"
   ]
  },
  {
   "cell_type": "code",
   "execution_count": 5,
   "metadata": {},
   "outputs": [],
   "source": [
    "luminance = np.array([images[i][images[i]>thresholds[i]].mean() for i in range(0,1750)])"
   ]
  },
  {
   "cell_type": "code",
   "execution_count": 8,
   "metadata": {},
   "outputs": [],
   "source": [
    "from sklearn.decomposition import PCA\n",
    "reg_pca = PCA(n_components=0.9,svd_solver='full')\n",
    "reg_pca.fit(data[\"responses\"])\n",
    "reg_pca_data = reg_pca.fit_transform(data[\"responses\"])"
   ]
  },
  {
   "cell_type": "code",
   "execution_count": 20,
   "metadata": {},
   "outputs": [],
   "source": [
    "from sklearn.model_selection import train_test_split\n",
    "X_train, X_test, y_train, y_test = train_test_split(reg_pca_data, luminance, test_size=0.2, random_state=42)"
   ]
  },
  {
   "cell_type": "code",
   "execution_count": 30,
   "metadata": {},
   "outputs": [
    {
     "name": "stdout",
     "output_type": "stream",
     "text": [
      "Scoring criteria: neg_mean_squared_error\n",
      "--------------- model 1/22 ---------------\n",
      "LinearRegression\n",
      "best score: -4156.771557822519 time/clf: 1.588 seconds\n",
      "best params:\n",
      "{'normalize': True}\n",
      "--------------- model 2/22 ---------------\n",
      "Ridge\n",
      "best score: -741.3500843949349 time/clf: 0.140 seconds\n",
      "best params:\n",
      "{'alpha': 1, 'normalize': True}\n",
      "--------------- model 3/22 ---------------\n",
      "Lasso\n",
      "best score: -662.3086107044348 time/clf: 0.049 seconds\n",
      "best params:\n",
      "{'alpha': 1, 'normalize': False}\n",
      "--------------- model 4/22 ---------------\n",
      "ElasticNet\n",
      "best score: -670.5961673460613 time/clf: 0.024 seconds\n",
      "best params:\n",
      "{'alpha': 3, 'l1_ratio': 0.5, 'normalize': False}\n",
      "--------------- model 5/22 ---------------\n",
      "Lars\n",
      "best score: -652.8560383740257 time/clf: 0.204 seconds\n",
      "best params:\n",
      "{'n_nonzero_coefs': 100, 'normalize': False}\n",
      "--------------- model 6/22 ---------------\n",
      "LassoLars\n",
      "best score: -693.3168966043643 time/clf: 0.170 seconds\n",
      "best params:\n",
      "{'alpha': 1e-05, 'max_iter': 100, 'normalize': True}\n",
      "--------------- model 7/22 ---------------\n",
      "OrthogonalMatchingPursuit\n",
      "best score: -1032.976898859591 time/clf: 0.173 seconds\n",
      "best params:\n",
      "{'n_nonzero_coefs': None, 'normalize': False}\n",
      "--------------- model 8/22 ---------------\n",
      "BayesianRidge\n"
     ]
    },
    {
     "name": "stderr",
     "output_type": "stream",
     "text": [
      "\n",
      "KeyboardInterrupt\n",
      "\n"
     ]
    }
   ],
   "source": [
    "from hunga_bunga import HungaBungaRegressor\n",
    "reg = HungaBungaRegressor(brain=True)\n",
    "reg.fit(X_train, y_train)\n",
    "r2_score(y_test,reg.predict(X_test))"
   ]
  },
  {
   "cell_type": "code",
   "execution_count": null,
   "metadata": {},
   "outputs": [],
   "source": []
  },
  {
   "cell_type": "code",
   "execution_count": null,
   "metadata": {},
   "outputs": [],
   "source": []
  }
 ],
 "metadata": {
  "kernelspec": {
   "display_name": "Python 3",
   "language": "python",
   "name": "python3"
  },
  "language_info": {
   "codemirror_mode": {
    "name": "ipython",
    "version": 3
   },
   "file_extension": ".py",
   "mimetype": "text/x-python",
   "name": "python",
   "nbconvert_exporter": "python",
   "pygments_lexer": "ipython3",
   "version": "3.6.10"
  }
 },
 "nbformat": 4,
 "nbformat_minor": 4
}
